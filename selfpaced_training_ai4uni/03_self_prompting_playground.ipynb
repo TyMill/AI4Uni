{
 "cells": [
  {
   "cell_type": "markdown",
   "id": "0436c026",
   "metadata": {},
   "source": [
    "# 🧠 Prompting Playground – AI as Your Assistant\n",
    "\n",
    "This notebook contains a series of simple exercises to help you explore prompt engineering with ChatGPT-style tools.\n",
    "\n",
    "Copy and paste the prompts into ChatGPT or another LLM interface, and observe the results."
   ]
  },
  {
   "cell_type": "markdown",
   "id": "c69e6b03",
   "metadata": {},
   "source": [
    "## ✍️ Prompt 1: Write a formal email\n",
    "**Prompt:** Write a polite email to a student who has not submitted the required documents for admission."
   ]
  },
  {
   "cell_type": "markdown",
   "id": "daabc82a",
   "metadata": {},
   "source": [
    "## 🔄 Prompt 2: Summarize a paragraph\n",
    "**Prompt:** Summarize the following in three sentences:\n",
    "\n",
    "_The AI4Uni project, funded by Erasmus+, aims to increase the organizational capacity of universities to responsibly use artificial intelligence tools._"
   ]
  },
  {
   "cell_type": "markdown",
   "id": "ce71a325",
   "metadata": {},
   "source": [
    "## 🌍 Prompt 3: Translate\n",
    "**Prompt:** Translate the following sentence to English:\n",
    "\n",
    "_Witamy na warsztatach AI4Uni! Jesteśmy ciekawi, jak sztuczna inteligencja może wspierać pracę uczelni._"
   ]
  },
  {
   "cell_type": "markdown",
   "id": "8e9d45ab",
   "metadata": {},
   "source": [
    "## 📜 Prompt 4: Draft a regulation with paragraphs\n",
    "**Prompt:** Draft a short university regulation on online meetings. Include at least 3 numbered paragraphs (§)."
   ]
  }
 ],
 "metadata": {},
 "nbformat": 4,
 "nbformat_minor": 5
}
