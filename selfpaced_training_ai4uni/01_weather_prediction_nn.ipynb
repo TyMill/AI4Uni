{
 "cells": [
  {
   "cell_type": "markdown",
   "id": "3ed012e1",
   "metadata": {},
   "source": [
    "# ☀️ My First Neural Network – Will It Rain?\n",
    "\n",
    "In this notebook, you'll build a simple neural network in Keras to predict the weather based on features like temperature, humidity, and pressure.\n",
    "\n",
    "We'll simulate data to keep things easy and fun."
   ]
  },
  {
   "cell_type": "code",
   "execution_count": null,
   "id": "ef8ada3a",
   "metadata": {},
   "outputs": [],
   "source": [
    "import numpy as np\n",
    "import pandas as pd\n",
    "from tensorflow.keras.models import Sequential\n",
    "from tensorflow.keras.layers import Dense\n",
    "import matplotlib.pyplot as plt\n",
    "\n",
    "# For reproducibility\n",
    "np.random.seed(42)"
   ]
  },
  {
   "cell_type": "code",
   "execution_count": null,
   "id": "e2e93a8c",
   "metadata": {},
   "outputs": [],
   "source": [
    "# Generate synthetic weather data\n",
    "n = 1000\n",
    "temp = np.random.uniform(15, 35, n)\n",
    "humidity = np.random.uniform(30, 90, n)\n",
    "pressure = np.random.uniform(990, 1025, n)\n",
    "rain = ((humidity > 60) & (pressure < 1005)).astype(int)\n",
    "\n",
    "df = pd.DataFrame({'temp': temp, 'humidity': humidity, 'pressure': pressure, 'rain': rain})\n",
    "df.head()"
   ]
  },
  {
   "cell_type": "code",
   "execution_count": null,
   "id": "48ffc761",
   "metadata": {},
   "outputs": [],
   "source": [
    "from sklearn.model_selection import train_test_split\n",
    "X = df[['temp', 'humidity', 'pressure']]\n",
    "y = df['rain']\n",
    "X_train, X_test, y_train, y_test = train_test_split(X, y, test_size=0.2, random_state=42)"
   ]
  },
  {
   "cell_type": "code",
   "execution_count": null,
   "id": "83bcb9df",
   "metadata": {},
   "outputs": [],
   "source": [
    "model = Sequential()\n",
    "model.add(Dense(10, activation='relu', input_shape=(3,)))\n",
    "model.add(Dense(1, activation='sigmoid'))\n",
    "model.compile(optimizer='adam', loss='binary_crossentropy', metrics=['accuracy'])"
   ]
  },
  {
   "cell_type": "code",
   "execution_count": null,
   "id": "eb123f9b",
   "metadata": {},
   "outputs": [],
   "source": [
    "history = model.fit(X_train, y_train, epochs=20, validation_data=(X_test, y_test))"
   ]
  },
  {
   "cell_type": "code",
   "execution_count": null,
   "id": "dd4d3ace",
   "metadata": {},
   "outputs": [],
   "source": [
    "loss, acc = model.evaluate(X_test, y_test)\n",
    "print(f'Accuracy: {acc:.2f}')"
   ]
  },
  {
   "cell_type": "code",
   "execution_count": null,
   "id": "bd6ea888",
   "metadata": {},
   "outputs": [],
   "source": [
    "plt.plot(history.history['accuracy'], label='train acc')\n",
    "plt.plot(history.history['val_accuracy'], label='val acc')\n",
    "plt.legend()\n",
    "plt.title('Training History')\n",
    "plt.show()"
   ]
  }
 ],
 "metadata": {},
 "nbformat": 4,
 "nbformat_minor": 5
}
