{
 "cells": [
  {
   "cell_type": "markdown",
   "id": "b8bf5643",
   "metadata": {},
   "source": [
    "# 💬 My First Local Language Model (LLM)\n",
    "\n",
    "In this notebook, you'll learn how to run a local chatbot using open-source LLMs.\n",
    "We'll use the `transformers` library to load a small, local model and chat with it.\n",
    "\n",
    "> ⚠️ Note: This is a demo using a lightweight model. No internet is required."
   ]
  },
  {
   "cell_type": "code",
   "execution_count": null,
   "id": "b3dc756d",
   "metadata": {},
   "outputs": [],
   "source": [
    "from transformers import pipeline\n",
    "\n",
    "# Load a small model for Q&A\n",
    "qa = pipeline('question-answering', model='distilbert-base-cased-distilled-squad')"
   ]
  },
  {
   "cell_type": "code",
   "execution_count": null,
   "id": "417f03ab",
   "metadata": {},
   "outputs": [],
   "source": [
    "# Ask a question\n",
    "question = \"What is the capital of Poland?\"\n",
    "context = \"Poland is a country in Europe. Its capital is Warsaw.\"\n",
    "\n",
    "result = qa(question=question, context=context)\n",
    "print(\"Answer:\", result['answer'])"
   ]
  },
  {
   "cell_type": "code",
   "execution_count": null,
   "id": "67cf4046",
   "metadata": {},
   "outputs": [],
   "source": [
    "# Try it yourself!\n",
    "question = \"Who coordinates the AI4Uni project?\"\n",
    "context = \"The University of Szczecin coordinates the AI4Uni project.\"\n",
    "\n",
    "print(qa(question=question, context=context)['answer'])"
   ]
  }
 ],
 "metadata": {},
 "nbformat": 4,
 "nbformat_minor": 5
}
