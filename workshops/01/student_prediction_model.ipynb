
[![Open In Colab](https://colab.research.google.com/assets/colab-badge.svg)](https://colab.research.google.com/github/TyMill/AI4Uni/blob/main/workshops/01/student_prediction_model.ipynb)

{
 "cells": [
  {
   "cell_type": "markdown",
   "id": "f08d4125",
   "metadata": {},
   "source": [
    "# Predicting Number of Enrolled Students at University of Szczecin\n",
    "\n",
    "This notebook demonstrates a simple linear regression model to estimate the number of students who will actually start their studies, based on the number of births (18 years earlier) and the number of accepted applicants."
   ]
  },
  {
   "cell_type": "code",
   "execution_count": null,
   "id": "8413db14",
   "metadata": {},
   "outputs": [],
   "source": [
    "import pandas as pd\n",
    "import numpy as np\n",
    "from sklearn.linear_model import LinearRegression\n",
    "\n",
    "# Set seed for reproducibility\n",
    "np.random.seed(42)\n",
    "\n",
    "# Example synthetic data\n",
    "data = {\n",
    "    'Year': [2010, 2011, 2012, 2013, 2014, 2015, 2016, 2017, 2018, 2019, 2020, 2021, 2022, 2023, 2024],\n",
    "    'Births_18_years_ago': [25860, 28772, 28092, 25466, 29426, 28444, 28171, 27919, 25130, 26685, 25769, 27391, 27433, 26184, 29555],\n",
    "    'Accepted_Students': [6337, 5021, 5252, 5747, 5856, 6584, 5474, 6082, 5510, 6705, 6499, 5699, 5975, 6806, 5189],\n",
    "    'Actual_Students': [4579, 4290, 4178, 5435, 4782, 6024, 4762, 4942, 3875, 6272, 5464, 4538, 4206, 5157, 3944]\n",
    "}\n",
    "df = pd.DataFrame(data)\n",
    "df.head()\n"
   ]
  },
  {
   "cell_type": "code",
   "execution_count": null,
   "id": "2a390f38",
   "metadata": {},
   "outputs": [],
   "source": [
    "# Train model\n",
    "X = df[['Births_18_years_ago', 'Accepted_Students']]\n",
    "y = df['Actual_Students']\n",
    "model = LinearRegression()\n",
    "model.fit(X, y)\n"
   ]
  },
  {
   "cell_type": "code",
   "execution_count": null,
   "id": "7de07ecc",
   "metadata": {},
   "outputs": [],
   "source": [
    "# Predict new year\n",
    "example = pd.DataFrame({'Births_18_years_ago': [27000], 'Accepted_Students': [6200]})\n",
    "prediction = model.predict(example)\n",
    "print(\"Predicted number of students:\", int(prediction[0]))\n"
   ]
  }
 ],
 "metadata": {},
 "nbformat": 4,
 "nbformat_minor": 5
}
